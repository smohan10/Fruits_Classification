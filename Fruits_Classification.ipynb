{
 "cells": [
  {
   "cell_type": "code",
   "execution_count": 1,
   "metadata": {},
   "outputs": [
    {
     "name": "stderr",
     "output_type": "stream",
     "text": [
      "C:\\Users\\Sandeep\\Anaconda3\\lib\\site-packages\\h5py\\__init__.py:36: FutureWarning: Conversion of the second argument of issubdtype from `float` to `np.floating` is deprecated. In future, it will be treated as `np.float64 == np.dtype(float).type`.\n",
      "  from ._conv import register_converters as _register_converters\n"
     ]
    }
   ],
   "source": [
    "import os\n",
    "import shutil\n",
    "import sys\n",
    "import numpy as np\n",
    "import scipy\n",
    "import matplotlib.pyplot as plt\n",
    "import h5py\n",
    "import tensorflow as tf\n",
    "import cv2"
   ]
  },
  {
   "cell_type": "code",
   "execution_count": 2,
   "metadata": {},
   "outputs": [],
   "source": [
    "data_path = os.getcwd() + \"\\\\data\\\\\""
   ]
  },
  {
   "cell_type": "code",
   "execution_count": 3,
   "metadata": {},
   "outputs": [],
   "source": [
    "def read(data_path, folder_type='train'):\n",
    "    if folder_type.lower() == 'train':\n",
    "        path = data_path + \"\\\\\" + \"Training\"\n",
    "    elif folder_type.lower() == 'test':\n",
    "        path = data_path + \"\\\\\" + \"Test\"\n",
    "    else:\n",
    "        print(\"Wrong folder path\")\n",
    "        sys.exit(1)\n",
    "    \n",
    "    total_fruits_list  = os.listdir(path)\n",
    "    total_fruits_count = len(total_fruits_list)\n",
    "    \n",
    "    \n",
    "    \n",
    "    all_images_count = 0\n",
    "    \n",
    "    total_fruits_list_temp = total_fruits_list[:5]\n",
    "    total_fruits_count_temp = len(total_fruits_list_temp)\n",
    "    \n",
    "    for fruit in total_fruits_list_temp:        \n",
    "        for img in os.listdir(path + \"\\\\\" + fruit):\n",
    "            all_images_count += 1\n",
    "            \n",
    "    \n",
    "    data = {}\n",
    "    labels = {}\n",
    "    data[folder_type] = np.zeros(shape=(all_images_count, 100, 100, 3), dtype=np.float64)\n",
    "    labels[folder_type] = np.zeros(all_images_count)\n",
    "    print(data[folder_type].shape)\n",
    "    print(labels[folder_type].shape)\n",
    "    \n",
    "    data_counter = 0\n",
    "    label_counter = 0\n",
    "    \n",
    "    label_to_idx_dict = {}\n",
    "    idx_to_label_dict = {}\n",
    "    \n",
    "    for fruit in total_fruits_list_temp:        \n",
    "        print(folder_type, \" : \", fruit)  \n",
    "        label_to_idx_dict[fruit] = label_counter\n",
    "        idx_to_label_dict[label_counter] = fruit\n",
    "        for img in os.listdir(path + \"\\\\\" + fruit):\n",
    "            cur_img = cv2.imread(path + \"\\\\\" + fruit + \"\\\\\" + img)            \n",
    "            data[folder_type][data_counter,:,:,:] = cur_img                        \n",
    "            labels[folder_type][data_counter] = label_counter\n",
    "            data_counter += 1\n",
    "        label_counter += 1\n",
    "            \n",
    "    return data[folder_type], labels[folder_type], len(total_fruits_list_temp), label_to_idx_dict, idx_to_label_dict\n",
    "    "
   ]
  },
  {
   "cell_type": "code",
   "execution_count": 4,
   "metadata": {},
   "outputs": [
    {
     "name": "stdout",
     "output_type": "stream",
     "text": [
      "(2449, 100, 100, 3)\n",
      "(2449,)\n",
      "train  :  Apple Braeburn\n",
      "train  :  Apple Golden 1\n",
      "train  :  Apple Golden 2\n",
      "train  :  Apple Golden 3\n",
      "train  :  Apple Granny Smith\n",
      "(817, 100, 100, 3)\n",
      "(817,)\n",
      "test  :  Apple Braeburn\n",
      "test  :  Apple Golden 1\n",
      "test  :  Apple Golden 2\n",
      "test  :  Apple Golden 3\n",
      "test  :  Apple Granny Smith\n"
     ]
    }
   ],
   "source": [
    "training_data, training_labels, num_classes, \\\n",
    "    label_to_idx_dict_train,idx_to_label_dict_train = read(data_path, folder_type=\"train\")\n",
    "\n",
    "test_data, test_labels, num_classes, \\\n",
    "    label_to_idx_dict_test, idx_to_label_dict_test = read(data_path, folder_type=\"test\")"
   ]
  },
  {
   "cell_type": "code",
   "execution_count": null,
   "metadata": {},
   "outputs": [],
   "source": [
    "'''\n",
    "hf_train_data = h5py.File('training_data.h5', 'w')\n",
    "hf_train_labels = h5py.File('training_labels.h5', 'w')\n",
    "hf_test_data = h5py.File('test_data.h5', 'w')\n",
    "hf_test_labels = h5py.File('test_labels.h5', 'w')\n",
    "\n",
    "hf_train_data.create_dataset('training_data', data=training_data)\n",
    "asciiList = [n.encode(\"ascii\", \"ignore\") for n in training_labels]\n",
    "hf_train_labels.create_dataset('training_labels', (len(asciiList),1),'S25', asciiList)\n",
    "\n",
    "hf_test_data.create_dataset('test_data', data=test_data)\n",
    "asciiList_test = [n.encode(\"ascii\", \"ignore\") for n in test_labels]\n",
    "hf_test_labels.create_dataset('test_labels', (len(asciiList_test),1),'S25', asciiList_test)\n",
    "'''"
   ]
  },
  {
   "cell_type": "code",
   "execution_count": 5,
   "metadata": {},
   "outputs": [
    {
     "name": "stdout",
     "output_type": "stream",
     "text": [
      "Shape of training data is (2449, 100, 100, 3)\n",
      "Shape of training labels is (2449,)\n",
      "Shape of test data is (817, 100, 100, 3)\n",
      "Shape of test labels is (817,)\n"
     ]
    }
   ],
   "source": [
    "# Display the dimensions of the data\n",
    "print(\"Shape of training data is {}\".format(training_data.shape)) \n",
    "print(\"Shape of training labels is {}\".format(training_labels.shape)) \n",
    "\n",
    "print(\"Shape of test data is {}\".format(test_data.shape)) \n",
    "print(\"Shape of test labels is {}\".format(test_labels.shape)) "
   ]
  },
  {
   "cell_type": "code",
   "execution_count": 6,
   "metadata": {},
   "outputs": [
    {
     "data": {
      "text/plain": [
       "{'Apple Braeburn': 0,\n",
       " 'Apple Golden 1': 1,\n",
       " 'Apple Golden 2': 2,\n",
       " 'Apple Golden 3': 3,\n",
       " 'Apple Granny Smith': 4}"
      ]
     },
     "execution_count": 6,
     "metadata": {},
     "output_type": "execute_result"
    }
   ],
   "source": [
    "label_to_idx_dict_train"
   ]
  },
  {
   "cell_type": "code",
   "execution_count": null,
   "metadata": {},
   "outputs": [],
   "source": []
  }
 ],
 "metadata": {
  "kernelspec": {
   "display_name": "Python 3",
   "language": "python",
   "name": "python3"
  },
  "language_info": {
   "codemirror_mode": {
    "name": "ipython",
    "version": 3
   },
   "file_extension": ".py",
   "mimetype": "text/x-python",
   "name": "python",
   "nbconvert_exporter": "python",
   "pygments_lexer": "ipython3",
   "version": "3.6.5"
  }
 },
 "nbformat": 4,
 "nbformat_minor": 2
}
