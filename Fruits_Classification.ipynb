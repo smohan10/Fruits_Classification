{
 "cells": [
  {
   "cell_type": "code",
   "execution_count": 1,
   "metadata": {},
   "outputs": [
    {
     "name": "stderr",
     "output_type": "stream",
     "text": [
      "S:\\Softwares\\Anaconda3\\lib\\site-packages\\h5py\\__init__.py:34: FutureWarning: Conversion of the second argument of issubdtype from `float` to `np.floating` is deprecated. In future, it will be treated as `np.float64 == np.dtype(float).type`.\n",
      "  from ._conv import register_converters as _register_converters\n"
     ]
    }
   ],
   "source": [
    "import os\n",
    "import shutil\n",
    "import sys\n",
    "import numpy as np\n",
    "from scipy import ndimage\n",
    "import scipy\n",
    "import matplotlib.pyplot as plt\n",
    "import h5py\n",
    "import tensorflow as tf"
   ]
  },
  {
   "cell_type": "code",
   "execution_count": 2,
   "metadata": {
    "collapsed": true
   },
   "outputs": [],
   "source": [
    "data_path = \"S:\\\\Work\\\\Github_repos\\\\Fruits_Classification\\\\data\\\\fruits-360\""
   ]
  },
  {
   "cell_type": "code",
   "execution_count": 37,
   "metadata": {
    "collapsed": true
   },
   "outputs": [],
   "source": [
    "def read(data_path, folder_type='train'):\n",
    "    if folder_type.lower() == 'train':\n",
    "        path = data_path + \"\\\\\" + \"Training\"\n",
    "    elif folder_type.lower() == 'test':\n",
    "        path = data_path + \"\\\\\" + \"Test\"\n",
    "    else:\n",
    "        print(\"Wrong folder path\")\n",
    "        sys.exit(1)\n",
    "    \n",
    "    total_fruits_list  = os.listdir(path)\n",
    "    total_fruits_count = len(total_fruits_list)\n",
    "    \n",
    "    \n",
    "    \n",
    "    all_images_count = 0\n",
    "    \n",
    "    for fruit in total_fruits_list:        \n",
    "        for img in os.listdir(path + \"\\\\\" + fruit):\n",
    "            all_images_count += 1\n",
    "            \n",
    "    \n",
    "    data = {}\n",
    "    labels = {}\n",
    "    data[folder_type] = np.zeros(shape=(all_images_count, 100, 100, 3), dtype=np.float64)\n",
    "    labels[folder_type] = []\n",
    "    print(data[folder_type].shape)\n",
    "    \n",
    "    data_counter = 0\n",
    "    label_counter = 0\n",
    "    for fruit in total_fruits_list:        \n",
    "        for img in os.listdir(path + \"\\\\\" + fruit):\n",
    "            cur_img = ndimage.imread(path + \"\\\\\" + fruit + \"\\\\\" + img)\n",
    "            #print(cur_img.shape, path + \"\\\\\" + fruit + \"\\\\\" + img)\n",
    "            data[folder_type][data_counter,:,:,:] = cur_img            \n",
    "            data_counter += 1\n",
    "        labels[folder_type].append(fruit)\n",
    "        print(folder_type, \" : \", fruit)\n",
    "        \n",
    "            \n",
    "    return data[folder_type], np.asarray(labels[folder_type])\n",
    "    "
   ]
  },
  {
   "cell_type": "code",
   "execution_count": 6,
   "metadata": {},
   "outputs": [
    {
     "name": "stdout",
     "output_type": "stream",
     "text": [
      "(1000, 100, 100, 3)\n",
      "train  :  Apple Braeburn\n",
      "train  :  Apple Golden 1\n",
      "(1000, 100, 100, 3)\n",
      "test  :  Apple Braeburn\n",
      "test  :  Apple Golden 1\n",
      "<class 'numpy.ndarray'>\n"
     ]
    }
   ],
   "source": [
    "training_data, training_labels = read(data_path, folder_type=\"train\")\n",
    "test_data, test_labels = read(data_path, folder_type=\"test\")\n",
    "\n",
    "print(type(training_data))\n"
   ]
  },
  {
   "cell_type": "code",
   "execution_count": 7,
   "metadata": {
    "collapsed": true
   },
   "outputs": [],
   "source": [
    "hf_train_data = h5py.File('training_data.h5', 'w')\n",
    "hf_train_labels = h5py.File('training_labels.h5', 'w')\n",
    "hf_test_data = h5py.File('test_data.h5', 'w')\n",
    "hf_test_labels = h5py.File('test_labels.h5', 'w')"
   ]
  },
  {
   "cell_type": "code",
   "execution_count": 9,
   "metadata": {},
   "outputs": [
    {
     "data": {
      "text/plain": [
       "<HDF5 dataset \"training_data\": shape (1000, 100, 100, 3), type \"<f8\">"
      ]
     },
     "execution_count": 9,
     "metadata": {},
     "output_type": "execute_result"
    }
   ],
   "source": [
    "hf_train_data.create_dataset('training_data', data=training_data)\n",
    "#hf_train_labels.create_dataset('training_labels', data=training_labels)"
   ]
  },
  {
   "cell_type": "code",
   "execution_count": 10,
   "metadata": {
    "collapsed": true
   },
   "outputs": [],
   "source": [
    "hf_train_data.close()"
   ]
  },
  {
   "cell_type": "code",
   "execution_count": 11,
   "metadata": {
    "collapsed": true
   },
   "outputs": [],
   "source": [
    "hf2 = h5py.File('training_data.h5', 'r')"
   ]
  },
  {
   "cell_type": "code",
   "execution_count": 13,
   "metadata": {},
   "outputs": [],
   "source": [
    "a = hf2.get(\"training_data\")"
   ]
  },
  {
   "cell_type": "code",
   "execution_count": 14,
   "metadata": {},
   "outputs": [
    {
     "data": {
      "text/plain": [
       "(1000, 100, 100, 3)"
      ]
     },
     "execution_count": 14,
     "metadata": {},
     "output_type": "execute_result"
    }
   ],
   "source": [
    "a.shape"
   ]
  },
  {
   "cell_type": "code",
   "execution_count": 16,
   "metadata": {},
   "outputs": [],
   "source": [
    "hf2.close()"
   ]
  },
  {
   "cell_type": "code",
   "execution_count": 18,
   "metadata": {},
   "outputs": [
    {
     "name": "stdout",
     "output_type": "stream",
     "text": [
      "<class 'numpy.ndarray'>\n"
     ]
    }
   ],
   "source": [
    "print(type(training_labels))"
   ]
  },
  {
   "cell_type": "code",
   "execution_count": 19,
   "metadata": {},
   "outputs": [
    {
     "data": {
      "text/plain": [
       "<HDF5 dataset \"training_labels\": shape (2, 1), type \"|S10\">"
      ]
     },
     "execution_count": 19,
     "metadata": {},
     "output_type": "execute_result"
    }
   ],
   "source": [
    "asciiList = [n.encode(\"ascii\", \"ignore\") for n in training_labels]\n",
    "hf_train_labels.create_dataset('training_labels', (len(asciiList),1),'S10', asciiList)"
   ]
  },
  {
   "cell_type": "code",
   "execution_count": 20,
   "metadata": {
    "collapsed": true
   },
   "outputs": [],
   "source": [
    "hf_train_labels.close()"
   ]
  },
  {
   "cell_type": "code",
   "execution_count": 21,
   "metadata": {
    "collapsed": true
   },
   "outputs": [],
   "source": [
    "hf3 = h5py.File('training_labels.h5', 'r')"
   ]
  },
  {
   "cell_type": "code",
   "execution_count": 22,
   "metadata": {
    "collapsed": true
   },
   "outputs": [],
   "source": [
    "a3 = hf3.get(\"training_labels\")"
   ]
  },
  {
   "cell_type": "code",
   "execution_count": 23,
   "metadata": {},
   "outputs": [
    {
     "data": {
      "text/plain": [
       "(2, 1)"
      ]
     },
     "execution_count": 23,
     "metadata": {},
     "output_type": "execute_result"
    }
   ],
   "source": [
    "a3.shape"
   ]
  }
 ],
 "metadata": {
  "kernelspec": {
   "display_name": "Python 3",
   "language": "python",
   "name": "python3"
  },
  "language_info": {
   "codemirror_mode": {
    "name": "ipython",
    "version": 3
   },
   "file_extension": ".py",
   "mimetype": "text/x-python",
   "name": "python",
   "nbconvert_exporter": "python",
   "pygments_lexer": "ipython3",
   "version": "3.6.1"
  }
 },
 "nbformat": 4,
 "nbformat_minor": 2
}
