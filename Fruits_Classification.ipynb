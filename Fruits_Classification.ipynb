{
 "cells": [
  {
   "cell_type": "code",
   "execution_count": 31,
   "metadata": {},
   "outputs": [],
   "source": [
    "import os\n",
    "import shutil\n",
    "import sys\n",
    "import numpy as np\n",
    "import scipy\n",
    "import matplotlib.pyplot as plt\n",
    "import h5py\n",
    "import tensorflow as tf\n",
    "from tensorflow.python.framework import ops\n",
    "import cv2"
   ]
  },
  {
   "cell_type": "code",
   "execution_count": 2,
   "metadata": {},
   "outputs": [],
   "source": [
    "data_path = os.getcwd() + \"\\\\data\\\\\""
   ]
  },
  {
   "cell_type": "code",
   "execution_count": 80,
   "metadata": {},
   "outputs": [],
   "source": [
    "def read(data_path, folder_type='train'):\n",
    "    if folder_type.lower() == 'train':\n",
    "        path = data_path + \"\\\\\" + \"Training\"\n",
    "    elif folder_type.lower() == 'test':\n",
    "        path = data_path + \"\\\\\" + \"Test\"\n",
    "    else:\n",
    "        print(\"Wrong folder path\")\n",
    "        sys.exit(1)\n",
    "    \n",
    "    total_fruits_list  = os.listdir(path)\n",
    "    total_fruits_count = len(total_fruits_list)\n",
    "    \n",
    "    \n",
    "    \n",
    "    all_images_count = 0\n",
    "    \n",
    "    total_fruits_list_temp = total_fruits_list[:5]\n",
    "    total_fruits_count_temp = len(total_fruits_list_temp)\n",
    "    \n",
    "    for fruit in total_fruits_list_temp:        \n",
    "        for img in os.listdir(path + \"\\\\\" + fruit):\n",
    "            all_images_count += 1\n",
    "            \n",
    "    \n",
    "    data = {}\n",
    "    labels = {}\n",
    "    data[folder_type] = np.zeros(shape=(all_images_count, 100, 100, 3), dtype=np.float32)\n",
    "    labels[folder_type] = np.zeros(all_images_count, dtype=np.int32)\n",
    "    print(data[folder_type].shape)\n",
    "    print(labels[folder_type].shape)\n",
    "    \n",
    "    data_counter = 0\n",
    "    label_counter = 0\n",
    "    \n",
    "    label_to_idx_dict = {}\n",
    "    idx_to_label_dict = {}\n",
    "    \n",
    "    for fruit in total_fruits_list_temp:        \n",
    "        print(folder_type, \" : \", fruit)  \n",
    "        label_to_idx_dict[fruit] = label_counter\n",
    "        idx_to_label_dict[label_counter] = fruit\n",
    "        for img in os.listdir(path + \"\\\\\" + fruit):\n",
    "            cur_img = cv2.imread(path + \"\\\\\" + fruit + \"\\\\\" + img)            \n",
    "            data[folder_type][data_counter,:,:,:] = cur_img                        \n",
    "            labels[folder_type][data_counter] = label_counter\n",
    "            data_counter += 1\n",
    "        label_counter += 1\n",
    "            \n",
    "    return data[folder_type], labels[folder_type], len(total_fruits_list_temp), label_to_idx_dict, idx_to_label_dict\n",
    "    "
   ]
  },
  {
   "cell_type": "code",
   "execution_count": 81,
   "metadata": {},
   "outputs": [
    {
     "name": "stdout",
     "output_type": "stream",
     "text": [
      "(2449, 100, 100, 3)\n",
      "(2449,)\n",
      "train  :  Apple Braeburn\n",
      "train  :  Apple Golden 1\n",
      "train  :  Apple Golden 2\n",
      "train  :  Apple Golden 3\n",
      "train  :  Apple Granny Smith\n",
      "(817, 100, 100, 3)\n",
      "(817,)\n",
      "test  :  Apple Braeburn\n",
      "test  :  Apple Golden 1\n",
      "test  :  Apple Golden 2\n",
      "test  :  Apple Golden 3\n",
      "test  :  Apple Granny Smith\n"
     ]
    }
   ],
   "source": [
    "training_data, training_labels, num_classes, \\\n",
    "    label_to_idx_dict_train,idx_to_label_dict_train = read(data_path, folder_type=\"train\")\n",
    "\n",
    "test_data, test_labels, num_classes, \\\n",
    "    label_to_idx_dict_test, idx_to_label_dict_test = read(data_path, folder_type=\"test\")"
   ]
  },
  {
   "cell_type": "code",
   "execution_count": 43,
   "metadata": {},
   "outputs": [
    {
     "data": {
      "text/plain": [
       "'\\nhf_train_data = h5py.File(\\'training_data.h5\\', \\'w\\')\\nhf_train_labels = h5py.File(\\'training_labels.h5\\', \\'w\\')\\nhf_test_data = h5py.File(\\'test_data.h5\\', \\'w\\')\\nhf_test_labels = h5py.File(\\'test_labels.h5\\', \\'w\\')\\n\\nhf_train_data.create_dataset(\\'training_data\\', data=training_data)\\nasciiList = [n.encode(\"ascii\", \"ignore\") for n in training_labels]\\nhf_train_labels.create_dataset(\\'training_labels\\', (len(asciiList),1),\\'S25\\', asciiList)\\n\\nhf_test_data.create_dataset(\\'test_data\\', data=test_data)\\nasciiList_test = [n.encode(\"ascii\", \"ignore\") for n in test_labels]\\nhf_test_labels.create_dataset(\\'test_labels\\', (len(asciiList_test),1),\\'S25\\', asciiList_test)\\n'"
      ]
     },
     "execution_count": 43,
     "metadata": {},
     "output_type": "execute_result"
    }
   ],
   "source": [
    "'''\n",
    "hf_train_data = h5py.File('training_data.h5', 'w')\n",
    "hf_train_labels = h5py.File('training_labels.h5', 'w')\n",
    "hf_test_data = h5py.File('test_data.h5', 'w')\n",
    "hf_test_labels = h5py.File('test_labels.h5', 'w')\n",
    "\n",
    "hf_train_data.create_dataset('training_data', data=training_data)\n",
    "asciiList = [n.encode(\"ascii\", \"ignore\") for n in training_labels]\n",
    "hf_train_labels.create_dataset('training_labels', (len(asciiList),1),'S25', asciiList)\n",
    "\n",
    "hf_test_data.create_dataset('test_data', data=test_data)\n",
    "asciiList_test = [n.encode(\"ascii\", \"ignore\") for n in test_labels]\n",
    "hf_test_labels.create_dataset('test_labels', (len(asciiList_test),1),'S25', asciiList_test)\n",
    "'''"
   ]
  },
  {
   "cell_type": "code",
   "execution_count": 82,
   "metadata": {},
   "outputs": [
    {
     "name": "stdout",
     "output_type": "stream",
     "text": [
      "Shape of training data is (2449, 100, 100, 3)\n",
      "Shape of training labels is (2449,)\n",
      "Shape of test data is (817, 100, 100, 3)\n",
      "Shape of test labels is (817,)\n"
     ]
    }
   ],
   "source": [
    "# Display the dimensions of the data\n",
    "print(\"Shape of training data is {}\".format(training_data.shape)) \n",
    "print(\"Shape of training labels is {}\".format(training_labels.shape)) \n",
    "\n",
    "print(\"Shape of test data is {}\".format(test_data.shape)) \n",
    "print(\"Shape of test labels is {}\".format(test_labels.shape)) "
   ]
  },
  {
   "cell_type": "code",
   "execution_count": 102,
   "metadata": {},
   "outputs": [
    {
     "data": {
      "text/plain": [
       "({'Apple Braeburn': 0,\n",
       "  'Apple Golden 1': 1,\n",
       "  'Apple Golden 2': 2,\n",
       "  'Apple Golden 3': 3,\n",
       "  'Apple Granny Smith': 4},\n",
       " 5)"
      ]
     },
     "execution_count": 102,
     "metadata": {},
     "output_type": "execute_result"
    }
   ],
   "source": [
    "label_to_idx_dict_train, num_classes"
   ]
  },
  {
   "cell_type": "code",
   "execution_count": 103,
   "metadata": {},
   "outputs": [],
   "source": [
    "# Represent labels as one hot encoding\n",
    "#training_labels_one_hot = tf.one_hot(training_labels, num_classes)\n",
    "#test_labels_one_hot = tf.one_hot(test_labels, num_classes)\n",
    "#with tf.Session() as sess:\n",
    "#    print(sess.run(training_labels_one_hot))\n",
    "#    print(sess.run(test_labels_one_hot))\n",
    "    \n",
    "training_labels_one_hot = np.eye(num_classes)[training_labels.reshape(-1)]\n",
    "test_labels_one_hot = np.eye(num_classes)[test_labels.reshape(-1)]\n"
   ]
  },
  {
   "cell_type": "code",
   "execution_count": 104,
   "metadata": {},
   "outputs": [
    {
     "name": "stdout",
     "output_type": "stream",
     "text": [
      "(2449, 5)\n"
     ]
    }
   ],
   "source": [
    "print(training_labels_one_hot.shape)"
   ]
  },
  {
   "cell_type": "code",
   "execution_count": 105,
   "metadata": {},
   "outputs": [
    {
     "name": "stdout",
     "output_type": "stream",
     "text": [
      "Shape of normalized training data is (2449, 100, 100, 3)\n",
      "Shape of normalized test data is (817, 100, 100, 3)\n"
     ]
    }
   ],
   "source": [
    "# Normalize the input\n",
    "training_data_norm = training_data/255.0\n",
    "test_data_norm = test_data/255.0\n",
    "\n",
    "print(\"Shape of normalized training data is {}\".format(training_data_norm.shape)) \n",
    "print(\"Shape of normalized test data is {}\".format(test_data_norm.shape)) \n"
   ]
  },
  {
   "cell_type": "markdown",
   "metadata": {},
   "source": [
    "### Define the architecture \n",
    "\n",
    "1. Conv2D - 16 5 x 5 x 3 filters\n",
    "2. Batch Norm\n",
    "3. Relu\n",
    "4. Max Pool - 2x2 Stride 2\n",
    "\n",
    "1. Conv2D - 32 5x5x16 filters\n",
    "2. Batch Norm\n",
    "3. Relu\n",
    "4. Max Pool - 2x2 Stride 2\n",
    "\n",
    "1. Conv2D - 64 5x5x32 filters\n",
    "2. Batch Norm\n",
    "3. Relu\n",
    "4. Max Pool - 2x2 Stride 2\n",
    "\n",
    "1. Conv2D - 128 5x5x64 filters\n",
    "2. Batch Norm\n",
    "3. Relu\n",
    "4. Max Pool - 2x2 Stride 2\n",
    "\n",
    "1. Fully Connected - 1024\n",
    "2. Fully Connected - 256 \n",
    "\n",
    "1. Softmax  - 81\n"
   ]
  },
  {
   "cell_type": "code",
   "execution_count": 93,
   "metadata": {},
   "outputs": [],
   "source": [
    "def initialize_parameters():\n",
    "    \n",
    "    parameters = {}\n",
    "    \n",
    "    parameters[\"W1\"] = tf.get_variable(\"W1\", shape=(5,5,3,16), initializer=tf.contrib.layers.xavier_initializer(seed=0))\n",
    "    parameters[\"W2\"] = tf.get_variable(\"W2\", shape=(5,5,16,32), initializer=tf.contrib.layers.xavier_initializer(seed=0))\n",
    "    parameters[\"W3\"] = tf.get_variable(\"W3\", shape=(5,5,32,64), initializer=tf.contrib.layers.xavier_initializer(seed=0))\n",
    "    parameters[\"W4\"] = tf.get_variable(\"W4\", shape=(5,5,64,128), initializer=tf.contrib.layers.xavier_initializer(seed=0))\n",
    "    \n",
    "    return parameters\n",
    "   \n",
    "\n",
    "    "
   ]
  },
  {
   "cell_type": "code",
   "execution_count": 94,
   "metadata": {},
   "outputs": [],
   "source": [
    "# Define 1 convolution block \n",
    "def conv2d_Block(X, W, s, padding='SAME'):\n",
    "    \n",
    "    Z = tf.nn.conv2d(X, W, strides=[1,s,s,1], padding=padding)\n",
    "    \n",
    "    A = tf.nn.relu(Z)\n",
    "    \n",
    "    return A\n",
    "   \n",
    "    "
   ]
  },
  {
   "cell_type": "code",
   "execution_count": 95,
   "metadata": {},
   "outputs": [],
   "source": [
    "# Define max pool block\n",
    "def maxpool2d_Block(X, f, padding='SAME'):\n",
    "\n",
    "    max_pool = tf.nn.max_pool(X, [1,f,f,1], strides=[1,f,f,1], padding=padding)\n",
    "    \n",
    "    return max_pool"
   ]
  },
  {
   "cell_type": "code",
   "execution_count": 106,
   "metadata": {},
   "outputs": [],
   "source": [
    "# Forward activation\n",
    "\n",
    "def forward_pass(X, parameters):\n",
    "    \n",
    "    \n",
    "    # Perform series of convolution operation\n",
    "    C1 = conv2d_Block(X, parameters[\"W1\"], 1, \"SAME\")\n",
    "    M1 = maxpool2d_Block(C1, 2, \"SAME\")\n",
    "    \n",
    "    C2 = conv2d_Block(M1,  parameters[\"W2\"], 1, \"SAME\")\n",
    "    M2 = maxpool2d_Block(C2, 2,  \"SAME\")\n",
    "    \n",
    "    C3 = conv2d_Block(M2,  parameters[\"W3\"], 1, \"SAME\")\n",
    "    M3 = maxpool2d_Block(C3, 2,  \"SAME\")\n",
    "    \n",
    "    C4 = conv2d_Block(M3, parameters[\"W4\"], 1, \"SAME\")\n",
    "    M4 = maxpool2d_Block(C4, 2, \"SAME\")\n",
    "    \n",
    "    # Flatten \n",
    "    P4 =  tf.contrib.layers.flatten(M4)\n",
    "    \n",
    "    # Fully connected - 1\n",
    "    F1 = tf.contrib.layers.fully_connected(P4, 1024)\n",
    "    \n",
    "    # Fully connected - 2\n",
    "    F2 = tf.contrib.layers.fully_connected(F1, 256)\n",
    "    \n",
    "    # last layer\n",
    "    F3 = tf.contrib.layers.fully_connected(F2, 5, activation_fn=None)\n",
    "    \n",
    "    return F3\n",
    "    \n",
    "    \n",
    "    \n"
   ]
  },
  {
   "cell_type": "code",
   "execution_count": 107,
   "metadata": {},
   "outputs": [],
   "source": [
    "# Compute the cost\n",
    "\n",
    "def compute_cost(logits, labels):\n",
    "\n",
    "    cost = tf.reduce_mean(tf.nn.softmax_cross_entropy_with_logits(logits=logits, labels=labels))\n",
    "\n",
    "    return cost"
   ]
  },
  {
   "cell_type": "code",
   "execution_count": 108,
   "metadata": {},
   "outputs": [],
   "source": [
    "# Optimizer setup\n",
    "def optimizer(alpha, cost):\n",
    "    \n",
    "    train = tf.train.AdamOptimizer(alpha).minimize(cost)\n",
    "    \n",
    "    return train"
   ]
  },
  {
   "cell_type": "code",
   "execution_count": 151,
   "metadata": {},
   "outputs": [],
   "source": [
    "# Create the model\n",
    "\n",
    "def model(X_train, y_train, X_test, y_test,num_epochs=1000, mini_batch_size=64, learning_rate=0.001):\n",
    "    \n",
    "     # to be able to rerun the model without overwriting tf variables\n",
    "    ops.reset_default_graph()                        \n",
    "    \n",
    "    # Extract information from the data\n",
    "    m, nH, nW, nC = X_train.shape\n",
    "    num_classes = y_train.shape[-1]\n",
    "    overall_cost = []\n",
    "    \n",
    "    # Initialize parameters\n",
    "    parameters = initialize_parameters() \n",
    "    \n",
    "    # Create placeholders for X and y\n",
    "    X_ = tf.placeholder(shape=[None, nH, nW, nC], dtype=tf.float32)\n",
    "    y_ = tf.placeholder(shape=[None, num_classes], dtype=tf.float32)\n",
    "    \n",
    "    # Call the forward pass\n",
    "    Z = forward_pass(X_, parameters)\n",
    "    \n",
    "    # Compute the cost\n",
    "    cost = compute_cost(Z, y_)\n",
    "    \n",
    "    # Define an optimizer for training\n",
    "    train = optimizer(learning_rate, cost)\n",
    "    \n",
    "    init = tf.global_variables_initializer()\n",
    "    \n",
    "    \n",
    "            \n",
    "    # Create a tensorflow session\n",
    "    with tf.Session() as sess:\n",
    "        sess.run(init)\n",
    "        saver = tf.train.Saver()\n",
    "        \n",
    "        batches = int(np.floor(m/mini_batch_size))\n",
    "        print(\"Total number of batches: %d \" % batches)\n",
    "        \n",
    "        for i in range(num_epochs):\n",
    "            \n",
    "            batch_counter = 0 \n",
    "            mini_batches_input_list = []\n",
    "            random_idx = np.random.permutation(m)\n",
    "            \n",
    "            for k in range(batches):\n",
    "                mini_batches_input_list.append( (X_train[mini_batch_size*k : mini_batch_size*(k+1)], \n",
    "                                               y_train[mini_batch_size*k : mini_batch_size*(k+1)]))\n",
    "                \n",
    "            mini_batches_input_list.append((X_train[batches*mini_batch_size : ], \n",
    "                                               y_train[batches*mini_batch_size : ]))\n",
    "            \n",
    "            for mini_batch in mini_batches_input_list:\n",
    "                \n",
    "                mini_batch_X, mini_batch_y = mini_batch[0], mini_batch[1]\n",
    "                \n",
    "                \n",
    "                _, cur_cost = sess.run(train, feed_dict = {X_:mini_batch_X, y_:mini_batch_y}), \\\n",
    "                                sess.run(cost, feed_dict = {X_:mini_batch_X, y_:mini_batch_y})\n",
    "                \n",
    "                overall_cost.append(cur_cost)\n",
    "                #print(\"Current cost: %f\" % cur_cost)\n",
    "                \n",
    "                batch_counter += 1\n",
    "                if batch_counter == 2:\n",
    "                    break\n",
    "                    \n",
    "            if i % 10 == 0:\n",
    "                print(\"Cost at iteration %d is %f\" % (i, overall_cost[-1]))\n",
    "                print(\"Saving a checkpoint here.\")\n",
    "                saver.save(sess, os.getcwd() + \"\\\\fruit_train\", global_step=i)\n",
    "                \n",
    "        print(\"Training done\")\n",
    "        '''correct_pred = tf.equal(tf.argmax(Z, 1), tf.argmax(y_, 1))\n",
    "        accuracy = tf.reduce_mean(tf.cast(correct_pred, \"float\"))\n",
    "\n",
    "        train_accuracy = accuracy.eval({X_: X_test, y_: y_test})\n",
    "        print(\"Accuracy: \", train_accuracy)'''\n",
    "        \n",
    "        \n",
    "        \n",
    "    \n",
    "    return overall_cost, parameters\n",
    "    \n",
    "    "
   ]
  },
  {
   "cell_type": "code",
   "execution_count": 152,
   "metadata": {},
   "outputs": [
    {
     "name": "stdout",
     "output_type": "stream",
     "text": [
      "Total number of batches: 38 \n",
      "Cost at iteration 0 is 0.000000\n",
      "Saving a checkpoint here.\n",
      "Cost at iteration 10 is 0.000000\n",
      "Saving a checkpoint here.\n",
      "Cost at iteration 20 is 0.000000\n",
      "Saving a checkpoint here.\n",
      "Training done\n"
     ]
    }
   ],
   "source": [
    "overall_cost, parameters = model(training_data_norm, training_labels_one_hot, \n",
    "                                           test_data_norm, test_labels_one_hot, num_epochs=30)"
   ]
  },
  {
   "cell_type": "code",
   "execution_count": 128,
   "metadata": {},
   "outputs": [
    {
     "name": "stdout",
     "output_type": "stream",
     "text": [
      "[0.0005023889, 0.0, 0.0, 0.0, 0.0]\n"
     ]
    }
   ],
   "source": [
    "print(overall_cost)"
   ]
  },
  {
   "cell_type": "code",
   "execution_count": 129,
   "metadata": {},
   "outputs": [
    {
     "data": {
      "text/plain": [
       "[<matplotlib.lines.Line2D at 0x2690e59f4a8>]"
      ]
     },
     "execution_count": 129,
     "metadata": {},
     "output_type": "execute_result"
    },
    {
     "data": {
      "image/png": "[encoded data removed]",
      "text/plain": [
       "<Figure size 432x288 with 1 Axes>"
      ]
     },
     "metadata": {},
     "output_type": "display_data"
    }
   ],
   "source": [
    "plt.plot(overall_cost)"
   ]
  },
  {
   "cell_type": "code",
   "execution_count": 142,
   "metadata": {},
   "outputs": [],
   "source": [
    "X_ = tf.placeholder(shape=[None, 100, 100, 3], dtype=tf.float32)\n",
    "y_ = tf.placeholder(shape=[None, 5], dtype=tf.float32)\n",
    "    \n",
    "Z = forward_pass(X_, parameters)\n",
    "correct_pred = tf.equal(tf.argmax(Z, 1), tf.argmax(y_, 1))\n",
    "accuracy = tf.reduce_mean(tf.cast(correct_pred, \"float\"))\n",
    "\n",
    "sess = tf.Session()\n",
    "init = tf.global_variables_initializer()\n",
    "sess.run(init)\n",
    "\n",
    "#test_accuracy = sess.run(accuracy, {X_: test_data_norm, y_: test_labels_one_hot})\n",
    "argZ = sess.run(tf.argmax(Z, 1), {X_: test_data_norm, y_: test_labels_one_hot})\n",
    "argA = sess.run(tf.argmax(tf.nn.softmax(Z), 1), {X_: test_data_norm, y_: test_labels_one_hot})\n",
    "argY = sess.run(tf.argmax(y_, 1), {X_: test_data_norm, y_: test_labels_one_hot})\n",
    "\n"
   ]
  },
  {
   "cell_type": "code",
   "execution_count": null,
   "metadata": {},
   "outputs": [],
   "source": [
    "# Saving the model "
   ]
  }
 ],
 "metadata": {
  "kernelspec": {
   "display_name": "Python 3",
   "language": "python",
   "name": "python3"
  },
  "language_info": {
   "codemirror_mode": {
    "name": "ipython",
    "version": 3
   },
   "file_extension": ".py",
   "mimetype": "text/x-python",
   "name": "python",
   "nbconvert_exporter": "python",
   "pygments_lexer": "ipython3",
   "version": "3.6.5"
  }
 },
 "nbformat": 4,
 "nbformat_minor": 2
}
